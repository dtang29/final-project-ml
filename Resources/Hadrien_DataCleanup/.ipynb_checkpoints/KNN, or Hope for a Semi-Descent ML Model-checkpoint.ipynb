{
 "cells": [
  {
   "cell_type": "markdown",
   "metadata": {},
   "source": [
    "## An Altenative, Non-Parametric Model: KNN"
   ]
  },
  {
   "cell_type": "markdown",
   "metadata": {},
   "source": [
    "### Why a non-parametric model?\n",
    "\n",
    "\"Learners can be divided into two major types: those whose representation has a fixed size, like linear classifiers, and those whose representation can grow with the data, like decision trees. (The latter are sometimes called non-parametric learners, but this is somewhat unfortunate, since they usually wind up learning many more parameters than parametric ones.)\"\n",
    "\n",
    "P. Domingos. A few useful things to know about machine learning. Communications of the ACM, 55(10):78–87, 2012.\n",
    "\n",
    "We have shown that a logistic model is insufficient in making determinations about the probability of a restaurant closing or staying open. Partly, that may be due to patterns of opening and closure being non-linear and multifacted. Thus we explore a model that may account for this great variability of our outcome variable."
   ]
  },
  {
   "cell_type": "code",
   "execution_count": 1,
   "metadata": {},
   "outputs": [],
   "source": [
    "import seaborn as sns\n",
    "import pandas as pd\n",
    "import numpy as np\n",
    "from sklearn import preprocessing\n",
    "from sklearn.preprocessing import StandardScaler\n",
    "\n",
    "import matplotlib.pyplot as plt\n",
    "%matplotlib notebook"
   ]
  },
  {
   "cell_type": "code",
   "execution_count": 2,
   "metadata": {},
   "outputs": [
    {
     "name": "stdout",
     "output_type": "stream",
     "text": [
      "320\n"
     ]
    },
    {
     "data": {
      "text/html": [
       "<div>\n",
       "<style scoped>\n",
       "    .dataframe tbody tr th:only-of-type {\n",
       "        vertical-align: middle;\n",
       "    }\n",
       "\n",
       "    .dataframe tbody tr th {\n",
       "        vertical-align: top;\n",
       "    }\n",
       "\n",
       "    .dataframe thead th {\n",
       "        text-align: right;\n",
       "    }\n",
       "</style>\n",
       "<table border=\"1\" class=\"dataframe\">\n",
       "  <thead>\n",
       "    <tr style=\"text-align: right;\">\n",
       "      <th></th>\n",
       "      <th>isClosed</th>\n",
       "      <th>Nature_Exp</th>\n",
       "      <th>Family_Fun</th>\n",
       "      <th>Healthy_Lifestyle</th>\n",
       "      <th>Nightlife_Hotspot</th>\n",
       "      <th>Artsy</th>\n",
       "      <th>Foodie</th>\n",
       "      <th>Hipster</th>\n",
       "      <th>Beautiful_Scenery</th>\n",
       "      <th>rating</th>\n",
       "      <th>district_cat</th>\n",
       "      <th>MA</th>\n",
       "    </tr>\n",
       "  </thead>\n",
       "  <tbody>\n",
       "    <tr>\n",
       "      <th>0</th>\n",
       "      <td>0</td>\n",
       "      <td>68.97875</td>\n",
       "      <td>74.11125</td>\n",
       "      <td>81.98125</td>\n",
       "      <td>94.38750</td>\n",
       "      <td>96.68250</td>\n",
       "      <td>69.45250</td>\n",
       "      <td>87.56375</td>\n",
       "      <td>18.50750</td>\n",
       "      <td>4.2</td>\n",
       "      <td>48</td>\n",
       "      <td>89.0</td>\n",
       "    </tr>\n",
       "    <tr>\n",
       "      <th>1</th>\n",
       "      <td>0</td>\n",
       "      <td>69.93875</td>\n",
       "      <td>57.08750</td>\n",
       "      <td>93.21750</td>\n",
       "      <td>86.38125</td>\n",
       "      <td>85.66375</td>\n",
       "      <td>73.72250</td>\n",
       "      <td>76.91625</td>\n",
       "      <td>79.45375</td>\n",
       "      <td>3.8</td>\n",
       "      <td>55</td>\n",
       "      <td>85.0</td>\n",
       "    </tr>\n",
       "    <tr>\n",
       "      <th>2</th>\n",
       "      <td>0</td>\n",
       "      <td>75.16875</td>\n",
       "      <td>77.81750</td>\n",
       "      <td>79.82250</td>\n",
       "      <td>90.26750</td>\n",
       "      <td>90.23625</td>\n",
       "      <td>78.62000</td>\n",
       "      <td>81.48750</td>\n",
       "      <td>69.74000</td>\n",
       "      <td>4.0</td>\n",
       "      <td>38</td>\n",
       "      <td>99.0</td>\n",
       "    </tr>\n",
       "    <tr>\n",
       "      <th>3</th>\n",
       "      <td>0</td>\n",
       "      <td>66.31625</td>\n",
       "      <td>79.73875</td>\n",
       "      <td>85.99250</td>\n",
       "      <td>94.00625</td>\n",
       "      <td>95.83250</td>\n",
       "      <td>77.71750</td>\n",
       "      <td>90.60875</td>\n",
       "      <td>40.79625</td>\n",
       "      <td>4.2</td>\n",
       "      <td>55</td>\n",
       "      <td>86.5</td>\n",
       "    </tr>\n",
       "    <tr>\n",
       "      <th>4</th>\n",
       "      <td>0</td>\n",
       "      <td>77.91750</td>\n",
       "      <td>46.82750</td>\n",
       "      <td>50.33750</td>\n",
       "      <td>43.97625</td>\n",
       "      <td>40.73875</td>\n",
       "      <td>19.78125</td>\n",
       "      <td>31.41375</td>\n",
       "      <td>56.66750</td>\n",
       "      <td>4.1</td>\n",
       "      <td>38</td>\n",
       "      <td>92.0</td>\n",
       "    </tr>\n",
       "  </tbody>\n",
       "</table>\n",
       "</div>"
      ],
      "text/plain": [
       "   isClosed  Nature_Exp  Family_Fun  Healthy_Lifestyle  Nightlife_Hotspot  \\\n",
       "0         0    68.97875    74.11125           81.98125           94.38750   \n",
       "1         0    69.93875    57.08750           93.21750           86.38125   \n",
       "2         0    75.16875    77.81750           79.82250           90.26750   \n",
       "3         0    66.31625    79.73875           85.99250           94.00625   \n",
       "4         0    77.91750    46.82750           50.33750           43.97625   \n",
       "\n",
       "      Artsy    Foodie   Hipster  Beautiful_Scenery  rating  district_cat    MA  \n",
       "0  96.68250  69.45250  87.56375           18.50750     4.2            48  89.0  \n",
       "1  85.66375  73.72250  76.91625           79.45375     3.8            55  85.0  \n",
       "2  90.23625  78.62000  81.48750           69.74000     4.0            38  99.0  \n",
       "3  95.83250  77.71750  90.60875           40.79625     4.2            55  86.5  \n",
       "4  40.73875  19.78125  31.41375           56.66750     4.1            38  92.0  "
      ]
     },
     "execution_count": 2,
     "metadata": {},
     "output_type": "execute_result"
    }
   ],
   "source": [
    "df_csv = pd.read_csv('cleanDatasets/master_dataset2015.csv')\n",
    "df = pd.DataFrame(df_csv)\n",
    "df_reg = df[[\n",
    "    'isClosed','Nature_Exp', 'Family_Fun', 'Healthy_Lifestyle', \n",
    "    'Nightlife_Hotspot', 'Artsy', 'Foodie', 'Hipster', 'Beautiful_Scenery',\n",
    "    'rating','district_cat','MA'\n",
    "]].dropna()\n",
    "print(len(df_reg))\n",
    "df_reg.head()"
   ]
  },
  {
   "cell_type": "markdown",
   "metadata": {},
   "source": [
    "We will be using a wider range of our explanatory variables. Namely we have:\n",
    "\n",
    "    - Spatial.AI data: we were fortunate enough to have access to an API providing characteristic profiles of specific location (by geographic coordinates) as determined by an aggregation of social media activity (Facebook, Instagram etc.). Each of the following measures the perceived unique personalities of the community surrounding stores:\n",
    "    \n",
    "        Nature_Exp\n",
    "        Family_Fun\t\n",
    "        Healthy_Lifestyle\t\n",
    "        Nightlife_Hotspot\t\n",
    "        Artsy\t\n",
    "        Foodie\t\n",
    "        Hipster\t\n",
    "        Beautiful_Scenery\n",
    "    \n",
    "        The data was collected over each quarter over the years of 2016-2017 and averaged into a single value.\n",
    " \n",
    "    - rating pertains to aggregated user's ratings on Google Maps for a location.\n",
    "    \n",
    "    - district_cat is encoded to represent each of San Francisco's neighborhoods (except Treasure Island).\n",
    "    \n",
    "    - MA is the rolling health inspection score average for a given restaurant.\n",
    "    \n",
    "    - isClosed is the encoded outcome variable of whether a restaurant is open or closed as of 2018; accounting only for restaurant that either have opened after 2015 OR closed restaurant that have closed after 2015 (but may have been opened before 2015). Once again we are filtering for this date range to have a suitable representative ratio of open to closed location."
   ]
  },
  {
   "cell_type": "code",
   "execution_count": 3,
   "metadata": {},
   "outputs": [
    {
     "name": "stdout",
     "output_type": "stream",
     "text": [
      "(320, 11) (320,)\n"
     ]
    },
    {
     "name": "stderr",
     "output_type": "stream",
     "text": [
      "C:\\Users\\White Base\\AppData\\Local\\conda\\conda\\envs\\FinalProject\\lib\\site-packages\\sklearn\\cross_validation.py:41: DeprecationWarning: This module was deprecated in version 0.18 in favor of the model_selection module into which all the refactored classes and functions are moved. Also note that the interface of the new CV iterators are different from that of this module. This module will be removed in 0.20.\n",
      "  \"This module will be removed in 0.20.\", DeprecationWarning)\n"
     ]
    }
   ],
   "source": [
    "# loading libraries\n",
    "import matplotlib.pyplot as plt\n",
    "from sklearn.neighbors import KNeighborsClassifier\n",
    "import numpy as np\n",
    "from sklearn.cross_validation import train_test_split\n",
    "\n",
    "y = df_reg['isClosed']\n",
    "X = df_reg.drop(\"isClosed\", axis=1)\n",
    "print(X.shape, y.shape)"
   ]
  },
  {
   "cell_type": "code",
   "execution_count": 5,
   "metadata": {},
   "outputs": [],
   "source": [
    "from sklearn.model_selection import train_test_split\n",
    "X_train, X_test, y_train, y_test = train_test_split(X, y)"
   ]
  },
  {
   "cell_type": "code",
   "execution_count": 6,
   "metadata": {},
   "outputs": [
    {
     "name": "stdout",
     "output_type": "stream",
     "text": [
      "k: 1, Train/Test Score: 1.000/0.725\n",
      "k: 3, Train/Test Score: 0.842/0.762\n",
      "k: 5, Train/Test Score: 0.808/0.800\n",
      "k: 7, Train/Test Score: 0.829/0.825\n",
      "k: 9, Train/Test Score: 0.821/0.825\n",
      "k: 11, Train/Test Score: 0.821/0.812\n",
      "k: 13, Train/Test Score: 0.821/0.812\n",
      "k: 15, Train/Test Score: 0.821/0.812\n",
      "k: 17, Train/Test Score: 0.821/0.812\n",
      "k: 19, Train/Test Score: 0.821/0.812\n"
     ]
    },
    {
     "data": {
      "image/png": "[encoded data removed]",
      "text/plain": [
       "<Figure size 432x288 with 1 Axes>"
      ]
     },
     "metadata": {},
     "output_type": "display_data"
    }
   ],
   "source": [
    "# Loop through different k values to see which has the highest accuracy\n",
    "# Note: We only use odd numbers because we don't want any ties\n",
    "train_scores = []\n",
    "test_scores = []\n",
    "for k in range(1, 20, 2):\n",
    "    knn = KNeighborsClassifier(n_neighbors=k)\n",
    "    knn.fit(X_train, y_train)\n",
    "    train_score = knn.score(X_train, y_train)\n",
    "    test_score = knn.score(X_test, y_test)\n",
    "    train_scores.append(train_score)\n",
    "    test_scores.append(test_score)\n",
    "    print(f\"k: {k}, Train/Test Score: {train_score:.3f}/{test_score:.3f}\")\n",
    "    \n",
    "    \n",
    "plt.plot(range(1, 20, 2), train_scores, marker='o')\n",
    "plt.plot(range(1, 20, 2), test_scores, marker=\"x\")\n",
    "plt.xlabel(\"k neighbors\")\n",
    "plt.ylabel(\"Testing accuracy Score\")\n",
    "plt.show()"
   ]
  },
  {
   "cell_type": "code",
   "execution_count": 13,
   "metadata": {},
   "outputs": [
    {
     "name": "stdout",
     "output_type": "stream",
     "text": [
      "k=7 Test Acc: 0.825\n"
     ]
    }
   ],
   "source": [
    "# Note that k: 13 seems to be the best choice for this dataset\n",
    "knn = KNeighborsClassifier(n_neighbors=7)\n",
    "knn.fit(X_train, y_train)\n",
    "print('k=7 Test Acc: %.3f' % knn.score(X_test, y_test))"
   ]
  },
  {
   "cell_type": "markdown",
   "metadata": {},
   "source": [
    "### Here's what we need to keep in mind interpreting KNN:\n",
    "\n",
    "    Training accuracy rises as model complexity increases\n",
    "    Testing accuracy penalizes models that are too complex or not complex enough\n",
    "    Complexity is determined by the value of K (lower value = more complex)\n",
    "\n",
    "Here the model estimates 82.5% classification accuracy where k = 7.\n",
    "\n",
    "Compared to the Logistic Regression previously attempted, this is a much better and appropriate model. However it is important to note that KNN can suffer from skewed class distributions, i.e., although we have a better representation of closed location for this dataset, we can speculate that the majority of the testing data will pertain to open locations (large number = more common).\n",
    "\n",
    "Finally, the accuracy of KNN can be severely degraded with high-dimension data because there is little difference between the nearest and farthest neighbor."
   ]
  },
  {
   "cell_type": "markdown",
   "metadata": {},
   "source": [
    "## Thoughts and Conclusion"
   ]
  },
  {
   "cell_type": "markdown",
   "metadata": {},
   "source": [
    "KNN is a powerful classifier, however unlike a regression it does not provide insights into the variables yielding the greatest influence over the variability of the outcome variable. Many of the variables here were purposefully not included in the logistic model due to the lack of statistical significance. As said before, a model's success is not merely in its accuracy scores nor its coefficients being significant, but in the magnitude of insights we can derive from each attribute variables toward an ever more perfect model.\n",
    "\n",
    "Furthermore, the spatial dimension of the data (as point data with geographic coordinates) may provide a contextualizing layer in order to understand how points close to each other are more closely related than distant ones. I recommend following up with a spatial autocorrelation model (i.e. the observation of the variation between the values of datapoints affected by their spatial distance), to gain further insights about the geographic patterns of restaurants' attributes in San Francisco."
   ]
  },
  {
   "cell_type": "markdown",
   "metadata": {},
   "source": [
    "##### Acknowledgment: \n",
    "\n",
    "The methods above are based upon those introduced in the Machine Learning Module at Berkeley Extension's Data Analysis and Visualization program. \n",
    "\n",
    "I would also like to thank Spatial.AI (https://spatial.ai/) for access to data enriching our dataset with a cultural fit we sorely needed. \n",
    "\n",
    "\n",
    "\n",
    "\n",
    "I would also like to acknowledge the following blog posts: \n",
    "\n",
    "Kevin Zakka's Blog https://kevinzakka.github.io/2016/07/13/k-nearest-neighbor/\n",
    "\n",
    "This question posted on Kaggle in interpreting accuracy with reservation https://www.kaggle.com/getting-started/14998\n",
    "\n",
    "Data Aspirant http://dataaspirant.com/2016/12/30/k-nearest-neighbor-implementation-scikit-learn/\n",
    "\n",
    "\n",
    "August 2018"
   ]
  }
 ],
 "metadata": {
  "kernelspec": {
   "display_name": "Python 3",
   "language": "python",
   "name": "python3"
  },
  "language_info": {
   "codemirror_mode": {
    "name": "ipython",
    "version": 3
   },
   "file_extension": ".py",
   "mimetype": "text/x-python",
   "name": "python",
   "nbconvert_exporter": "python",
   "pygments_lexer": "ipython3",
   "version": "3.6.5"
  }
 },
 "nbformat": 4,
 "nbformat_minor": 2
}
