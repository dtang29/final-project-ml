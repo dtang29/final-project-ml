{
 "cells": [
  {
   "cell_type": "code",
   "execution_count": 46,
   "metadata": {},
   "outputs": [],
   "source": [
    "import seaborn as sns\n",
    "import pandas as pd\n",
    "import numpy as np\n",
    "from sklearn import preprocessing\n",
    "from sklearn.preprocessing import StandardScaler\n",
    "\n",
    "import matplotlib.pyplot as plt\n",
    "%matplotlib notebook\n",
    "\n",
    "from sklearn.model_selection import train_test_split\n",
    "from sklearn.metrics import f1_score\n",
    "from sklearn.metrics import confusion_matrix\n",
    "from sklearn.metrics import roc_curve\n",
    "from sklearn.metrics import precision_score\n",
    "from sklearn.metrics import recall_score\n",
    "from sklearn.linear_model import LogisticRegression\n",
    "from sklearn.naive_bayes import GaussianNB\n",
    "from sklearn.tree import DecisionTreeClassifier\n",
    "from sklearn.tree import export_graphviz\n",
    "from sklearn.ensemble import GradientBoostingClassifier\n",
    "from sklearn.ensemble import RandomForestClassifier"
   ]
  },
  {
   "cell_type": "code",
   "execution_count": 172,
   "metadata": {},
   "outputs": [
    {
     "name": "stdout",
     "output_type": "stream",
     "text": [
      "681\n",
      "['business_name', 'lic_code', 'street_address', 'business_start_date', 'business_end_date', 'Lifespan', 'isClosed', 'full_address', 'business_id', 'name', 'district', 'MA', 'year', 'latitude', 'longitude', 'tract', 'GEOID10', 'link', 'HC01_VC05', 'HC01_VC113', 'HC01_VC115', 'HC01_VC117', 'HC01_VC121', 'HC01_VC28', 'HC01_VC36', 'HC01_VC41', 'HC01_VC42', 'HC01_VC43', 'HC01_VC44', 'HC01_VC50', 'HC01_VC51', 'HC01_VC52', 'HC01_VC53', 'HC01_VC54', 'HC01_VC55', 'HC01_VC56', 'HC01_VC57', 'HC01_VC58', 'HC01_VC59', 'HC01_VC60', 'HC01_VC61', 'HC01_VC62', 'HC01_VC67', 'HC01_VC68', 'HC01_VC69', 'HC01_VC85', 'HC01_VC86', 'HC01_VC89', 'HC01_VC99', 'HC03_VC05', 'HC03_VC13', 'HC03_VC156', 'HC03_VC28', 'HC03_VC41', 'HC03_VC42', 'HC03_VC43', 'HC03_VC44', 'HC03_VC45', 'HC03_VC50', 'HC03_VC51', 'HC03_VC52', 'HC03_VC53', 'HC03_VC54', 'HC03_VC55', 'HC03_VC56', 'HC03_VC57', 'HC03_VC58', 'HC03_VC59', 'HC03_VC60', 'HC03_VC61', 'HC03_VC62', 'HC03_VC67', 'HC03_VC68', 'HC03_VC69', 'HC03_VC75', 'HC03_VC76', 'HC03_VC77', 'HC03_VC78', 'HC03_VC79', 'HC03_VC80', 'HC03_VC81', 'HC03_VC82', 'HC03_VC83', 'HC03_VC84', 'HD01_S001', 'HD01_S020', 'HD01_S026', 'HD01_S045', 'HD01_S051', 'HD01_S070', 'HD01_S151', 'HD01_S169', 'HD01_S170', 'HD01_S171', 'HD01_S180', 'HD01_S181', 'HD01_S184', 'HD02_S026', 'HD02_S051', 'HD02_S151', 'HD02_S170', 'HD02_S171', 'HD02_S180', 'HD02_S181', 'HD02_S184', 'Opening_year', 'Closing_year', 'Opening_month', 'Closing_month', 'input_string', 'price_level', 'rating', 'business_name.1', 'Q1_16_Nature_Exp', 'Q2_16_Nature_Exp', 'Q3_16_Nature_Exp', 'Q4_16_Nature_Exp', 'Q1_17_Nature_Exp', 'Q2_17_Nature_Exp', 'Q3_17_Nature_Exp', 'Q4_17_Nature_Exp', 'Q1_16_Family_Fun', 'Q2_16_Family_Fun', 'Q3_16_Family_Fun', 'Q4_16_Family_Fun', 'Q1_17_Family_Fun', 'Q2_17_Family_Fun', 'Q3_17_Family_Fun', 'Q4_17_Family_Fun', 'Q1_16_Healthy_Lifestyle', 'Q2_16_Healthy_Lifestyle', 'Q3_16_Healthy_Lifestyle', 'Q4_16_Healthy_Lifestyle', 'Q1_17_Healthy_Lifestyle', 'Q2_17_Healthy_Lifestyle', 'Q3_17_Healthy_Lifestyle', 'Q4_17_Healthy_Lifestyle', 'Q1_16_Nightlife_Hotspot', 'Q2_16_Nightlife_Hotspot', 'Q3_16_Nightlife_Hotspot', 'Q4_16_Nightlife_Hotspot', 'Q1_17_Nightlife_Hotspot', 'Q2_17_Nightlife_Hotspot', 'Q3_17_Nightlife_Hotspot', 'Q4_17_Nightlife_Hotspot', 'Q1_16_Artsy', 'Q2_16_Artsy', 'Q3_16_Artsy', 'Q4_16_Artsy', 'Q1_17_Artsy', 'Q2_17_Artsy', 'Q3_17_Artsy', 'Q4_17_Artsy', 'Q1_16_Foodie', 'Q2_16_Foodie', 'Q3_16_Foodie', 'Q4_16_Foodie', 'Q1_17_Foodie', 'Q2_17_Foodie', 'Q3_17_Foodie', 'Q4_17_Foodie', 'Q1_16_Hipster', 'Q2_16_Hipster', 'Q3_16_Hipster', 'Q4_16_Hipster', 'Q1_17_Hipster', 'Q2_17_Hipster', 'Q3_17_Hipster', 'Q4_17_Hipster', 'Q1_16_Beautiful_Scenery', 'Q2_16_Beautiful_Scenery', 'Q3_16_Beautiful_Scenery', 'Q4_16_Beautiful_Scenery', 'Q1_17_Beautiful_Scenery', 'Q2_17_Beautiful_Scenery', 'Q3_17_Beautiful_Scenery', 'Q4_17_Beautiful_Scenery', 'Foodie_16', 'Foodie_17', 'lic_code_cat', 'district_cat', 'Nature_Exp', 'Family_Fun', 'Healthy_Lifestyle', 'Nightlife_Hotspot', 'Artsy', 'Foodie', 'Hipster', 'Beautiful_Scenery']\n"
     ]
    }
   ],
   "source": [
    "df_csv = pd.read_csv('cleanDatasets/master_dataset2010.csv')\n",
    "df = pd.DataFrame(df_csv)\n",
    "print(len(df))\n",
    "print(list(df))"
   ]
  },
  {
   "cell_type": "code",
   "execution_count": 180,
   "metadata": {},
   "outputs": [],
   "source": [
    "df_reg = df[[\n",
    "    'rating','isClosed','lic_code_cat'\n",
    "]].dropna()\n",
    "\n",
    "# Testing X Variables:\n",
    "    # 'rating','isClosed','Lifespan','MA','Opening_year','price_level','Foodie_16','Foodie_17','lic_code_cat'"
   ]
  },
  {
   "cell_type": "code",
   "execution_count": 176,
   "metadata": {},
   "outputs": [
    {
     "name": "stdout",
     "output_type": "stream",
     "text": [
      "0.08516886930983847% of the dataset are closed locations\n"
     ]
    }
   ],
   "source": [
    "len(df_reg)\n",
    "print(str(len(df_reg[df_reg['isClosed']==0])/len(df_reg)) + \"% of the dataset are closed locations\") # no: 1, yes: 0"
   ]
  },
  {
   "cell_type": "code",
   "execution_count": 50,
   "metadata": {},
   "outputs": [],
   "source": [
    "######################################## Simple Linear Regression ######################################################"
   ]
  },
  {
   "cell_type": "code",
   "execution_count": 181,
   "metadata": {},
   "outputs": [
    {
     "name": "stdout",
     "output_type": "stream",
     "text": [
      "(681, 2) (681, 1)\n"
     ]
    }
   ],
   "source": [
    "from sklearn.linear_model import LinearRegression\n",
    "\n",
    "X = df_reg.drop('isClosed',axis = 1)\n",
    "y = df_reg[\"isClosed\"].values.reshape(-1, 1)\n",
    "print(X.shape, y.shape)"
   ]
  },
  {
   "cell_type": "code",
   "execution_count": 182,
   "metadata": {},
   "outputs": [
    {
     "name": "stdout",
     "output_type": "stream",
     "text": [
      "[0.55306814] [[0.05788601 0.08346552]]\n"
     ]
    }
   ],
   "source": [
    "# Ref: https://becominghuman.ai/stats-models-vs-sklearn-for-linear-regression-f19df95ad99b\n",
    "from sklearn import linear_model as lm\n",
    "\n",
    "# X = df_reg[\"Lifespan\"].values.reshape(-1, 1)\n",
    "# y = df_reg[\"isClosed\"]\n",
    "\n",
    "model = lm.LinearRegression()\n",
    "results = model.fit(X,y)\n",
    "print(model.intercept_,model.coef_)"
   ]
  },
  {
   "cell_type": "code",
   "execution_count": 183,
   "metadata": {},
   "outputs": [
    {
     "name": "stdout",
     "output_type": "stream",
     "text": [
      "If the Prob(Omnibus) is very small, and I took this to mean <.05 as this is standard statistical practice, then our data is probably not normal. \n",
      " \n"
     ]
    },
    {
     "data": {
      "text/html": [
       "<table class=\"simpletable\">\n",
       "<caption>OLS Regression Results</caption>\n",
       "<tr>\n",
       "  <th>Dep. Variable:</th>            <td>y</td>        <th>  R-squared:         </th> <td>   0.188</td>\n",
       "</tr>\n",
       "<tr>\n",
       "  <th>Model:</th>                   <td>OLS</td>       <th>  Adj. R-squared:    </th> <td>   0.186</td>\n",
       "</tr>\n",
       "<tr>\n",
       "  <th>Method:</th>             <td>Least Squares</td>  <th>  F-statistic:       </th> <td>   78.69</td>\n",
       "</tr>\n",
       "<tr>\n",
       "  <th>Date:</th>             <td>Tue, 07 Aug 2018</td> <th>  Prob (F-statistic):</th> <td>1.86e-31</td>\n",
       "</tr>\n",
       "<tr>\n",
       "  <th>Time:</th>                 <td>18:12:32</td>     <th>  Log-Likelihood:    </th> <td> -26.221</td>\n",
       "</tr>\n",
       "<tr>\n",
       "  <th>No. Observations:</th>      <td>   681</td>      <th>  AIC:               </th> <td>   58.44</td>\n",
       "</tr>\n",
       "<tr>\n",
       "  <th>Df Residuals:</th>          <td>   678</td>      <th>  BIC:               </th> <td>   72.01</td>\n",
       "</tr>\n",
       "<tr>\n",
       "  <th>Df Model:</th>              <td>     2</td>      <th>                     </th>     <td> </td>   \n",
       "</tr>\n",
       "<tr>\n",
       "  <th>Covariance Type:</th>      <td>nonrobust</td>    <th>                     </th>     <td> </td>   \n",
       "</tr>\n",
       "</table>\n",
       "<table class=\"simpletable\">\n",
       "<tr>\n",
       "        <td></td>          <th>coef</th>     <th>std err</th>      <th>t</th>      <th>P>|t|</th>  <th>[0.025</th>    <th>0.975]</th>  \n",
       "</tr>\n",
       "<tr>\n",
       "  <th>const</th>        <td>    0.5531</td> <td>    0.121</td> <td>    4.559</td> <td> 0.000</td> <td>    0.315</td> <td>    0.791</td>\n",
       "</tr>\n",
       "<tr>\n",
       "  <th>rating</th>       <td>    0.0579</td> <td>    0.028</td> <td>    2.034</td> <td> 0.042</td> <td>    0.002</td> <td>    0.114</td>\n",
       "</tr>\n",
       "<tr>\n",
       "  <th>lic_code_cat</th> <td>    0.0835</td> <td>    0.007</td> <td>   12.484</td> <td> 0.000</td> <td>    0.070</td> <td>    0.097</td>\n",
       "</tr>\n",
       "</table>\n",
       "<table class=\"simpletable\">\n",
       "<tr>\n",
       "  <th>Omnibus:</th>       <td>295.040</td> <th>  Durbin-Watson:     </th> <td>   2.032</td> \n",
       "</tr>\n",
       "<tr>\n",
       "  <th>Prob(Omnibus):</th> <td> 0.000</td>  <th>  Jarque-Bera (JB):  </th> <td>1047.913</td> \n",
       "</tr>\n",
       "<tr>\n",
       "  <th>Skew:</th>          <td>-2.110</td>  <th>  Prob(JB):          </th> <td>2.81e-228</td>\n",
       "</tr>\n",
       "<tr>\n",
       "  <th>Kurtosis:</th>      <td> 7.372</td>  <th>  Cond. No.          </th> <td>    59.2</td> \n",
       "</tr>\n",
       "</table><br/><br/>Warnings:<br/>[1] Standard Errors assume that the covariance matrix of the errors is correctly specified."
      ],
      "text/plain": [
       "<class 'statsmodels.iolib.summary.Summary'>\n",
       "\"\"\"\n",
       "                            OLS Regression Results                            \n",
       "==============================================================================\n",
       "Dep. Variable:                      y   R-squared:                       0.188\n",
       "Model:                            OLS   Adj. R-squared:                  0.186\n",
       "Method:                 Least Squares   F-statistic:                     78.69\n",
       "Date:                Tue, 07 Aug 2018   Prob (F-statistic):           1.86e-31\n",
       "Time:                        18:12:32   Log-Likelihood:                -26.221\n",
       "No. Observations:                 681   AIC:                             58.44\n",
       "Df Residuals:                     678   BIC:                             72.01\n",
       "Df Model:                           2                                         \n",
       "Covariance Type:            nonrobust                                         \n",
       "================================================================================\n",
       "                   coef    std err          t      P>|t|      [0.025      0.975]\n",
       "--------------------------------------------------------------------------------\n",
       "const            0.5531      0.121      4.559      0.000       0.315       0.791\n",
       "rating           0.0579      0.028      2.034      0.042       0.002       0.114\n",
       "lic_code_cat     0.0835      0.007     12.484      0.000       0.070       0.097\n",
       "==============================================================================\n",
       "Omnibus:                      295.040   Durbin-Watson:                   2.032\n",
       "Prob(Omnibus):                  0.000   Jarque-Bera (JB):             1047.913\n",
       "Skew:                          -2.110   Prob(JB):                    2.81e-228\n",
       "Kurtosis:                       7.372   Cond. No.                         59.2\n",
       "==============================================================================\n",
       "\n",
       "Warnings:\n",
       "[1] Standard Errors assume that the covariance matrix of the errors is correctly specified.\n",
       "\"\"\""
      ]
     },
     "execution_count": 183,
     "metadata": {},
     "output_type": "execute_result"
    }
   ],
   "source": [
    "import statsmodels.api as sm\n",
    "\n",
    "print(\"If the Prob(Omnibus) is very small, and I took this to mean <.05 as this is standard statistical practice, then our data is probably not normal. \")\n",
    "print(' ')\n",
    "\n",
    "X = sm.add_constant(X)\n",
    "model = sm.OLS(y,X).fit()\n",
    "model.summary()"
   ]
  },
  {
   "cell_type": "code",
   "execution_count": null,
   "metadata": {},
   "outputs": [],
   "source": [
    "########################################### Prediction Model ######################################################"
   ]
  },
  {
   "cell_type": "code",
   "execution_count": 184,
   "metadata": {},
   "outputs": [],
   "source": [
    "from sklearn.linear_model import LinearRegression\n",
    "model = LinearRegression()"
   ]
  },
  {
   "cell_type": "code",
   "execution_count": 185,
   "metadata": {},
   "outputs": [],
   "source": [
    "# Use train_test_split to create training and testing data\n",
    "\n",
    "### BEGIN SOLUTION\n",
    "from sklearn.model_selection import train_test_split\n",
    "\n",
    "X_train, X_test, y_train, y_test = train_test_split(X, y, random_state=42)"
   ]
  },
  {
   "cell_type": "code",
   "execution_count": 186,
   "metadata": {},
   "outputs": [
    {
     "name": "stdout",
     "output_type": "stream",
     "text": [
      "Training Score: 0.18761865372735653\n",
      "Testing Score: 0.18981318474295186\n",
      "[0.59946542] [[0.         0.04681763 0.08288012]]\n"
     ]
    }
   ],
   "source": [
    "model.fit(X_train, y_train)\n",
    "training_score = model.score(X_train, y_train)\n",
    "testing_score = model.score(X_test, y_test)\n",
    "\n",
    "### END SOLUTION \n",
    "\n",
    "print(f\"Training Score: {training_score}\")\n",
    "print(f\"Testing Score: {testing_score}\")\n",
    "print(model.intercept_,model.coef_)"
   ]
  },
  {
   "cell_type": "code",
   "execution_count": 187,
   "metadata": {},
   "outputs": [
    {
     "data": {
      "text/plain": [
       "Text(0.5,1,'Residual Plot')"
      ]
     },
     "execution_count": 187,
     "metadata": {},
     "output_type": "execute_result"
    },
    {
     "data": {
      "image/png": "[encoded data removed]",
      "text/plain": [
       "<Figure size 432x288 with 1 Axes>"
      ]
     },
     "metadata": {},
     "output_type": "display_data"
    }
   ],
   "source": [
    "### BEGIN SOLUTION\n",
    "plt.scatter(model.predict(X_train), model.predict(X_train) - y_train, c=\"blue\", label=\"Training Data\")\n",
    "plt.scatter(model.predict(X_test), model.predict(X_test) - y_test, c=\"orange\", label=\"Testing Data\")\n",
    "plt.legend()\n",
    "plt.hlines(y=0, xmin=y.min(), xmax=y.max())\n",
    "plt.title(\"Residual Plot\")"
   ]
  },
  {
   "cell_type": "code",
   "execution_count": 58,
   "metadata": {},
   "outputs": [
    {
     "name": "stdout",
     "output_type": "stream",
     "text": [
      "There are three primary metrics used to evaluate linear models. Mean absolute error (MAE), Mean squared error (MSE), or Root mean squared error (RMSE) 1) MAE: The easiest to understand. Represents average error 2) MSE: Similar to MAE but noise is exaggerated and larger errors are “punished”. It is harder to interpret than MAE as it’s not in base units, however, it is generally more popular 3) RMSE: Most popular metric, similar to MSE, however, the result is square rooted to make it more interpretable as it’s in base units. It is recommended that RMSE be used as the primary metric to interpret your model\n"
     ]
    }
   ],
   "source": [
    "print('There are three primary metrics used to evaluate linear models. Mean absolute error (MAE), Mean squared error (MSE), or Root mean squared error (RMSE)' + ' ' +\n",
    "'1) MAE: The easiest to understand. Represents average error' + ' ' +\n",
    "'2) MSE: Similar to MAE but noise is exaggerated and larger errors are “punished”. It is harder to interpret than MAE as it’s not in base units, however, it is generally more popular' + ' ' +\n",
    "'3) RMSE: Most popular metric, similar to MSE, however, the result is square rooted to make it more interpretable as it’s in base units. It is recommended that RMSE be used as the primary metric to interpret your model'    \n",
    "      )\n",
    "# Ref: https://towardsdatascience.com/linear-regression-in-python-9a1f5f000606"
   ]
  },
  {
   "cell_type": "code",
   "execution_count": null,
   "metadata": {},
   "outputs": [],
   "source": [
    "###################################Linear Regression (SCALED) ########################################################"
   ]
  },
  {
   "cell_type": "code",
   "execution_count": 142,
   "metadata": {},
   "outputs": [],
   "source": [
    "X = df_reg.drop('Lifespan',axis = 1)\n",
    "y = df_reg[\"Lifespan\"].values.reshape(-1, 1)\n",
    "\n",
    "from sklearn.model_selection import train_test_split\n",
    "\n",
    "X_train, X_test, y_train, y_test = train_test_split(X, y)"
   ]
  },
  {
   "cell_type": "code",
   "execution_count": 143,
   "metadata": {},
   "outputs": [],
   "source": [
    "from sklearn.preprocessing import StandardScaler\n",
    "\n",
    "# Create a StandardScater model and fit it to the training data\n",
    "\n",
    "### BEGIN SOLUTION\n",
    "X_scaler = StandardScaler().fit(X_train)\n",
    "y_scaler = StandardScaler().fit(y_train)"
   ]
  },
  {
   "cell_type": "code",
   "execution_count": 144,
   "metadata": {},
   "outputs": [],
   "source": [
    "X_train_scaled = X_scaler.transform(X_train)\n",
    "X_test_scaled = X_scaler.transform(X_test)\n",
    "y_train_scaled = y_scaler.transform(y_train)\n",
    "y_test_scaled = y_scaler.transform(y_test)"
   ]
  },
  {
   "cell_type": "code",
   "execution_count": 145,
   "metadata": {},
   "outputs": [
    {
     "data": {
      "text/plain": [
       "LinearRegression(copy_X=True, fit_intercept=True, n_jobs=1, normalize=False)"
      ]
     },
     "execution_count": 145,
     "metadata": {},
     "output_type": "execute_result"
    }
   ],
   "source": [
    "# Create a LinearRegression model and fit it to the scaled training data\n",
    "\n",
    "### BEGIN SOLUTION\n",
    "from sklearn.linear_model import LinearRegression\n",
    "model = LinearRegression()\n",
    "model.fit(X_train_scaled, y_train_scaled)"
   ]
  },
  {
   "cell_type": "code",
   "execution_count": 146,
   "metadata": {},
   "outputs": [],
   "source": [
    "# Make predictions using the X_test_scaled data\n",
    "# Plot y_test_scaled vs y_test_scaled\n",
    "# Scatter plot y_test_scaled vs predictions\n",
    "import matplotlib.pyplot as plt\n",
    "\n",
    "predictions = model.predict(X_test_scaled)\n",
    "model.fit(X_train_scaled, y_train_scaled)\n",
    "\n",
    "plt.scatter(model.predict(X_train_scaled), model.predict(X_train_scaled) - y_train_scaled, c=\"blue\", label=\"Training Data\")\n",
    "plt.scatter(model.predict(X_test_scaled), model.predict(X_test_scaled) - y_test_scaled, c=\"orange\", label=\"Testing Data\")\n",
    "plt.legend()\n",
    "plt.hlines(y=0, xmin=y_test_scaled.min(), xmax=y_test_scaled.max())\n",
    "\n",
    "plt.title(\"Residual Plot\")\n",
    "plt.show()"
   ]
  },
  {
   "cell_type": "code",
   "execution_count": 147,
   "metadata": {},
   "outputs": [
    {
     "name": "stdout",
     "output_type": "stream",
     "text": [
      "MSE: 1.04549907878415, R2: 0.011668611500404769\n"
     ]
    }
   ],
   "source": [
    "# Used X_test_scaled, y_test_scaled, and model.predict(X_test_scaled) to calculate MSE and R2\n",
    "\n",
    "### BEGIN SOLUTION\n",
    "from sklearn.metrics import mean_squared_error\n",
    "\n",
    "MSE = mean_squared_error(y_test_scaled, predictions)\n",
    "r2 = model.score(X_test_scaled, y_test_scaled)\n",
    "### END SOLUTION\n",
    "\n",
    "print(f\"MSE: {MSE}, R2: {r2}\")"
   ]
  },
  {
   "cell_type": "code",
   "execution_count": 148,
   "metadata": {},
   "outputs": [
    {
     "name": "stdout",
     "output_type": "stream",
     "text": [
      "MSE: 1.0433279025779165, R2: 0.01372106820565544\n"
     ]
    }
   ],
   "source": [
    "# LASSO model\n",
    "# Note: Use an alpha of .01 when creating the model for this activity\n",
    "from sklearn.linear_model import Lasso\n",
    "\n",
    "### BEGIN SOLUTION\n",
    "lasso = Lasso(alpha=.01).fit(X_train_scaled, y_train_scaled)\n",
    "\n",
    "predictions = lasso.predict(X_test_scaled)\n",
    "\n",
    "MSE = mean_squared_error(y_test_scaled, predictions)\n",
    "r2 = lasso.score(X_test_scaled, y_test_scaled)\n",
    "### END SOLUTION\n",
    "\n",
    "print(f\"MSE: {MSE}, R2: {r2}\")"
   ]
  },
  {
   "cell_type": "code",
   "execution_count": 149,
   "metadata": {},
   "outputs": [
    {
     "name": "stdout",
     "output_type": "stream",
     "text": [
      "MSE: 1.0454988680787887, R2: 0.011668810684437038\n"
     ]
    }
   ],
   "source": [
    "# Ridge model\n",
    "# Note: Use an alpha of .01 when creating the model for this activity\n",
    "from sklearn.linear_model import Ridge\n",
    "\n",
    "### BEGIN SOLUTION\n",
    "ridge = Ridge(alpha=.01).fit(X_train_scaled, y_train_scaled)\n",
    "\n",
    "predictions = ridge.predict(X_test_scaled)\n",
    "\n",
    "MSE = mean_squared_error(y_test_scaled, predictions)\n",
    "r2 = ridge.score(X_test_scaled, y_test_scaled)\n",
    "### END SOLUTION\n",
    "\n",
    "print(f\"MSE: {MSE}, R2: {r2}\")"
   ]
  },
  {
   "cell_type": "code",
   "execution_count": 150,
   "metadata": {},
   "outputs": [
    {
     "name": "stdout",
     "output_type": "stream",
     "text": [
      "MSE: 1.0442311923744525, R2: 0.012867170122965566\n"
     ]
    }
   ],
   "source": [
    "# ElasticNet model\n",
    "# Note: Use an alpha of .01 when creating the model for this activity\n",
    "from sklearn.linear_model import ElasticNet\n",
    "\n",
    "### BEGIN SOLUTION\n",
    "elasticnet = ElasticNet(alpha=.01).fit(X_train_scaled, y_train_scaled)\n",
    "\n",
    "predictions = elasticnet.predict(X_test_scaled)\n",
    "\n",
    "MSE = mean_squared_error(y_test_scaled, predictions)\n",
    "r2 = elasticnet.score(X_test_scaled, y_test_scaled)\n",
    "### END SOLUTION\n",
    "\n",
    "print(f\"MSE: {MSE}, R2: {r2}\")"
   ]
  },
  {
   "cell_type": "code",
   "execution_count": null,
   "metadata": {},
   "outputs": [],
   "source": [
    "###########################################Logistic Regression #########################################################"
   ]
  },
  {
   "cell_type": "code",
   "execution_count": 190,
   "metadata": {},
   "outputs": [],
   "source": [
    "df_reg = df[[\n",
    "    'rating','lic_code_cat',\"isClosed\"\n",
    "]].dropna()\n",
    "\n",
    "# Testing X Variables:\n",
    "    # 'rating','isClosed','Lifespan','MA','Opening_year','price_level','Foodie_16','Foodie_17','lic_code_cat'"
   ]
  },
  {
   "cell_type": "code",
   "execution_count": 191,
   "metadata": {},
   "outputs": [
    {
     "name": "stdout",
     "output_type": "stream",
     "text": [
      "(681, 2) (681,)\n"
     ]
    }
   ],
   "source": [
    "X = df_reg.drop(\"isClosed\", axis=1)\n",
    "y = df_reg[\"isClosed\"]\n",
    "print(X.shape, y.shape)"
   ]
  },
  {
   "cell_type": "code",
   "execution_count": 192,
   "metadata": {},
   "outputs": [],
   "source": [
    "from sklearn.model_selection import train_test_split\n",
    "\n",
    "X_train, X_test, y_train, y_test = train_test_split(X, y, random_state=1, stratify=y)"
   ]
  },
  {
   "cell_type": "code",
   "execution_count": 193,
   "metadata": {},
   "outputs": [
    {
     "data": {
      "text/plain": [
       "LogisticRegression(C=1.0, class_weight=None, dual=False, fit_intercept=True,\n",
       "          intercept_scaling=1, max_iter=100, multi_class='ovr', n_jobs=1,\n",
       "          penalty='l2', random_state=None, solver='liblinear', tol=0.0001,\n",
       "          verbose=0, warm_start=False)"
      ]
     },
     "execution_count": 193,
     "metadata": {},
     "output_type": "execute_result"
    }
   ],
   "source": [
    "from sklearn.linear_model import LogisticRegression\n",
    "classifier = LogisticRegression()\n",
    "classifier"
   ]
  },
  {
   "cell_type": "code",
   "execution_count": 194,
   "metadata": {},
   "outputs": [
    {
     "data": {
      "text/plain": [
       "LogisticRegression(C=1.0, class_weight=None, dual=False, fit_intercept=True,\n",
       "          intercept_scaling=1, max_iter=100, multi_class='ovr', n_jobs=1,\n",
       "          penalty='l2', random_state=None, solver='liblinear', tol=0.0001,\n",
       "          verbose=0, warm_start=False)"
      ]
     },
     "execution_count": 194,
     "metadata": {},
     "output_type": "execute_result"
    }
   ],
   "source": [
    "classifier.fit(X_train, y_train)"
   ]
  },
  {
   "cell_type": "code",
   "execution_count": 195,
   "metadata": {},
   "outputs": [
    {
     "name": "stdout",
     "output_type": "stream",
     "text": [
      "Training Data Score: 0.9156862745098039\n",
      "Testing Data Score: 0.9122807017543859\n"
     ]
    }
   ],
   "source": [
    "print(f\"Training Data Score: {classifier.score(X_train, y_train)}\")\n",
    "print(f\"Testing Data Score: {classifier.score(X_test, y_test)}\")"
   ]
  },
  {
   "cell_type": "code",
   "execution_count": 196,
   "metadata": {},
   "outputs": [
    {
     "name": "stdout",
     "output_type": "stream",
     "text": [
      "First 10 Predictions:   [1 1 1 1 1 1 1 1 1 1]\n",
      "First 10 Actual labels: [1, 1, 1, 1, 1, 1, 1, 1, 0, 1]\n"
     ]
    }
   ],
   "source": [
    "predictions = classifier.predict(X_test)\n",
    "print(f\"First 10 Predictions:   {predictions[:10]}\")\n",
    "print(f\"First 10 Actual labels: {y_test[:10].tolist()}\")"
   ]
  },
  {
   "cell_type": "code",
   "execution_count": 197,
   "metadata": {},
   "outputs": [
    {
     "data": {
      "text/html": [
       "<div>\n",
       "<style scoped>\n",
       "    .dataframe tbody tr th:only-of-type {\n",
       "        vertical-align: middle;\n",
       "    }\n",
       "\n",
       "    .dataframe tbody tr th {\n",
       "        vertical-align: top;\n",
       "    }\n",
       "\n",
       "    .dataframe thead th {\n",
       "        text-align: right;\n",
       "    }\n",
       "</style>\n",
       "<table border=\"1\" class=\"dataframe\">\n",
       "  <thead>\n",
       "    <tr style=\"text-align: right;\">\n",
       "      <th></th>\n",
       "      <th>Prediction</th>\n",
       "      <th>Actual</th>\n",
       "    </tr>\n",
       "  </thead>\n",
       "  <tbody>\n",
       "    <tr>\n",
       "      <th>0</th>\n",
       "      <td>1</td>\n",
       "      <td>1</td>\n",
       "    </tr>\n",
       "    <tr>\n",
       "      <th>1</th>\n",
       "      <td>1</td>\n",
       "      <td>1</td>\n",
       "    </tr>\n",
       "    <tr>\n",
       "      <th>2</th>\n",
       "      <td>1</td>\n",
       "      <td>1</td>\n",
       "    </tr>\n",
       "    <tr>\n",
       "      <th>3</th>\n",
       "      <td>1</td>\n",
       "      <td>1</td>\n",
       "    </tr>\n",
       "    <tr>\n",
       "      <th>4</th>\n",
       "      <td>1</td>\n",
       "      <td>1</td>\n",
       "    </tr>\n",
       "    <tr>\n",
       "      <th>5</th>\n",
       "      <td>1</td>\n",
       "      <td>1</td>\n",
       "    </tr>\n",
       "    <tr>\n",
       "      <th>6</th>\n",
       "      <td>1</td>\n",
       "      <td>1</td>\n",
       "    </tr>\n",
       "    <tr>\n",
       "      <th>7</th>\n",
       "      <td>1</td>\n",
       "      <td>1</td>\n",
       "    </tr>\n",
       "    <tr>\n",
       "      <th>8</th>\n",
       "      <td>1</td>\n",
       "      <td>0</td>\n",
       "    </tr>\n",
       "    <tr>\n",
       "      <th>9</th>\n",
       "      <td>1</td>\n",
       "      <td>1</td>\n",
       "    </tr>\n",
       "    <tr>\n",
       "      <th>10</th>\n",
       "      <td>1</td>\n",
       "      <td>1</td>\n",
       "    </tr>\n",
       "    <tr>\n",
       "      <th>11</th>\n",
       "      <td>1</td>\n",
       "      <td>1</td>\n",
       "    </tr>\n",
       "    <tr>\n",
       "      <th>12</th>\n",
       "      <td>1</td>\n",
       "      <td>1</td>\n",
       "    </tr>\n",
       "    <tr>\n",
       "      <th>13</th>\n",
       "      <td>1</td>\n",
       "      <td>1</td>\n",
       "    </tr>\n",
       "    <tr>\n",
       "      <th>14</th>\n",
       "      <td>1</td>\n",
       "      <td>1</td>\n",
       "    </tr>\n",
       "    <tr>\n",
       "      <th>15</th>\n",
       "      <td>1</td>\n",
       "      <td>1</td>\n",
       "    </tr>\n",
       "    <tr>\n",
       "      <th>16</th>\n",
       "      <td>1</td>\n",
       "      <td>1</td>\n",
       "    </tr>\n",
       "    <tr>\n",
       "      <th>17</th>\n",
       "      <td>1</td>\n",
       "      <td>1</td>\n",
       "    </tr>\n",
       "    <tr>\n",
       "      <th>18</th>\n",
       "      <td>1</td>\n",
       "      <td>1</td>\n",
       "    </tr>\n",
       "    <tr>\n",
       "      <th>19</th>\n",
       "      <td>1</td>\n",
       "      <td>1</td>\n",
       "    </tr>\n",
       "    <tr>\n",
       "      <th>20</th>\n",
       "      <td>1</td>\n",
       "      <td>1</td>\n",
       "    </tr>\n",
       "    <tr>\n",
       "      <th>21</th>\n",
       "      <td>1</td>\n",
       "      <td>1</td>\n",
       "    </tr>\n",
       "    <tr>\n",
       "      <th>22</th>\n",
       "      <td>1</td>\n",
       "      <td>1</td>\n",
       "    </tr>\n",
       "    <tr>\n",
       "      <th>23</th>\n",
       "      <td>1</td>\n",
       "      <td>0</td>\n",
       "    </tr>\n",
       "    <tr>\n",
       "      <th>24</th>\n",
       "      <td>1</td>\n",
       "      <td>1</td>\n",
       "    </tr>\n",
       "    <tr>\n",
       "      <th>25</th>\n",
       "      <td>1</td>\n",
       "      <td>1</td>\n",
       "    </tr>\n",
       "    <tr>\n",
       "      <th>26</th>\n",
       "      <td>1</td>\n",
       "      <td>0</td>\n",
       "    </tr>\n",
       "    <tr>\n",
       "      <th>27</th>\n",
       "      <td>1</td>\n",
       "      <td>1</td>\n",
       "    </tr>\n",
       "    <tr>\n",
       "      <th>28</th>\n",
       "      <td>1</td>\n",
       "      <td>1</td>\n",
       "    </tr>\n",
       "    <tr>\n",
       "      <th>29</th>\n",
       "      <td>1</td>\n",
       "      <td>1</td>\n",
       "    </tr>\n",
       "    <tr>\n",
       "      <th>...</th>\n",
       "      <td>...</td>\n",
       "      <td>...</td>\n",
       "    </tr>\n",
       "    <tr>\n",
       "      <th>141</th>\n",
       "      <td>1</td>\n",
       "      <td>0</td>\n",
       "    </tr>\n",
       "    <tr>\n",
       "      <th>142</th>\n",
       "      <td>1</td>\n",
       "      <td>1</td>\n",
       "    </tr>\n",
       "    <tr>\n",
       "      <th>143</th>\n",
       "      <td>1</td>\n",
       "      <td>1</td>\n",
       "    </tr>\n",
       "    <tr>\n",
       "      <th>144</th>\n",
       "      <td>1</td>\n",
       "      <td>1</td>\n",
       "    </tr>\n",
       "    <tr>\n",
       "      <th>145</th>\n",
       "      <td>1</td>\n",
       "      <td>1</td>\n",
       "    </tr>\n",
       "    <tr>\n",
       "      <th>146</th>\n",
       "      <td>1</td>\n",
       "      <td>1</td>\n",
       "    </tr>\n",
       "    <tr>\n",
       "      <th>147</th>\n",
       "      <td>1</td>\n",
       "      <td>1</td>\n",
       "    </tr>\n",
       "    <tr>\n",
       "      <th>148</th>\n",
       "      <td>1</td>\n",
       "      <td>1</td>\n",
       "    </tr>\n",
       "    <tr>\n",
       "      <th>149</th>\n",
       "      <td>1</td>\n",
       "      <td>1</td>\n",
       "    </tr>\n",
       "    <tr>\n",
       "      <th>150</th>\n",
       "      <td>1</td>\n",
       "      <td>1</td>\n",
       "    </tr>\n",
       "    <tr>\n",
       "      <th>151</th>\n",
       "      <td>1</td>\n",
       "      <td>1</td>\n",
       "    </tr>\n",
       "    <tr>\n",
       "      <th>152</th>\n",
       "      <td>1</td>\n",
       "      <td>1</td>\n",
       "    </tr>\n",
       "    <tr>\n",
       "      <th>153</th>\n",
       "      <td>1</td>\n",
       "      <td>1</td>\n",
       "    </tr>\n",
       "    <tr>\n",
       "      <th>154</th>\n",
       "      <td>1</td>\n",
       "      <td>1</td>\n",
       "    </tr>\n",
       "    <tr>\n",
       "      <th>155</th>\n",
       "      <td>1</td>\n",
       "      <td>1</td>\n",
       "    </tr>\n",
       "    <tr>\n",
       "      <th>156</th>\n",
       "      <td>1</td>\n",
       "      <td>1</td>\n",
       "    </tr>\n",
       "    <tr>\n",
       "      <th>157</th>\n",
       "      <td>1</td>\n",
       "      <td>1</td>\n",
       "    </tr>\n",
       "    <tr>\n",
       "      <th>158</th>\n",
       "      <td>1</td>\n",
       "      <td>1</td>\n",
       "    </tr>\n",
       "    <tr>\n",
       "      <th>159</th>\n",
       "      <td>1</td>\n",
       "      <td>1</td>\n",
       "    </tr>\n",
       "    <tr>\n",
       "      <th>160</th>\n",
       "      <td>1</td>\n",
       "      <td>1</td>\n",
       "    </tr>\n",
       "    <tr>\n",
       "      <th>161</th>\n",
       "      <td>1</td>\n",
       "      <td>1</td>\n",
       "    </tr>\n",
       "    <tr>\n",
       "      <th>162</th>\n",
       "      <td>1</td>\n",
       "      <td>1</td>\n",
       "    </tr>\n",
       "    <tr>\n",
       "      <th>163</th>\n",
       "      <td>1</td>\n",
       "      <td>1</td>\n",
       "    </tr>\n",
       "    <tr>\n",
       "      <th>164</th>\n",
       "      <td>1</td>\n",
       "      <td>1</td>\n",
       "    </tr>\n",
       "    <tr>\n",
       "      <th>165</th>\n",
       "      <td>1</td>\n",
       "      <td>1</td>\n",
       "    </tr>\n",
       "    <tr>\n",
       "      <th>166</th>\n",
       "      <td>1</td>\n",
       "      <td>1</td>\n",
       "    </tr>\n",
       "    <tr>\n",
       "      <th>167</th>\n",
       "      <td>1</td>\n",
       "      <td>1</td>\n",
       "    </tr>\n",
       "    <tr>\n",
       "      <th>168</th>\n",
       "      <td>1</td>\n",
       "      <td>1</td>\n",
       "    </tr>\n",
       "    <tr>\n",
       "      <th>169</th>\n",
       "      <td>1</td>\n",
       "      <td>1</td>\n",
       "    </tr>\n",
       "    <tr>\n",
       "      <th>170</th>\n",
       "      <td>1</td>\n",
       "      <td>1</td>\n",
       "    </tr>\n",
       "  </tbody>\n",
       "</table>\n",
       "<p>171 rows × 2 columns</p>\n",
       "</div>"
      ],
      "text/plain": [
       "     Prediction  Actual\n",
       "0             1       1\n",
       "1             1       1\n",
       "2             1       1\n",
       "3             1       1\n",
       "4             1       1\n",
       "5             1       1\n",
       "6             1       1\n",
       "7             1       1\n",
       "8             1       0\n",
       "9             1       1\n",
       "10            1       1\n",
       "11            1       1\n",
       "12            1       1\n",
       "13            1       1\n",
       "14            1       1\n",
       "15            1       1\n",
       "16            1       1\n",
       "17            1       1\n",
       "18            1       1\n",
       "19            1       1\n",
       "20            1       1\n",
       "21            1       1\n",
       "22            1       1\n",
       "23            1       0\n",
       "24            1       1\n",
       "25            1       1\n",
       "26            1       0\n",
       "27            1       1\n",
       "28            1       1\n",
       "29            1       1\n",
       "..          ...     ...\n",
       "141           1       0\n",
       "142           1       1\n",
       "143           1       1\n",
       "144           1       1\n",
       "145           1       1\n",
       "146           1       1\n",
       "147           1       1\n",
       "148           1       1\n",
       "149           1       1\n",
       "150           1       1\n",
       "151           1       1\n",
       "152           1       1\n",
       "153           1       1\n",
       "154           1       1\n",
       "155           1       1\n",
       "156           1       1\n",
       "157           1       1\n",
       "158           1       1\n",
       "159           1       1\n",
       "160           1       1\n",
       "161           1       1\n",
       "162           1       1\n",
       "163           1       1\n",
       "164           1       1\n",
       "165           1       1\n",
       "166           1       1\n",
       "167           1       1\n",
       "168           1       1\n",
       "169           1       1\n",
       "170           1       1\n",
       "\n",
       "[171 rows x 2 columns]"
      ]
     },
     "execution_count": 197,
     "metadata": {},
     "output_type": "execute_result"
    }
   ],
   "source": [
    "pd.DataFrame({\"Prediction\": predictions, \"Actual\": y_test}).reset_index(drop=True)"
   ]
  },
  {
   "cell_type": "code",
   "execution_count": null,
   "metadata": {},
   "outputs": [],
   "source": [
    "##################################Logisitic Model 2 ###########################################################"
   ]
  },
  {
   "cell_type": "code",
   "execution_count": 363,
   "metadata": {},
   "outputs": [
    {
     "data": {
      "text/plain": [
       "320"
      ]
     },
     "execution_count": 363,
     "metadata": {},
     "output_type": "execute_result"
    }
   ],
   "source": [
    "df_csv = pd.read_csv('cleanDatasets/master_dataset2015.csv')\n",
    "df = pd.DataFrame(df_csv)\n",
    "df_reg = df[[\n",
    "    'rating','isClosed','lic_code_cat'\n",
    "]].dropna()\n",
    "len(df_reg)"
   ]
  },
  {
   "cell_type": "code",
   "execution_count": 364,
   "metadata": {},
   "outputs": [],
   "source": [
    "df_reg = df_reg.drop(df_reg[df_reg.lic_code_cat.isin(['-1'])].index)\n",
    "# df_reg.lic_code_cat.unique()"
   ]
  },
  {
   "cell_type": "code",
   "execution_count": 365,
   "metadata": {},
   "outputs": [
    {
     "name": "stdout",
     "output_type": "stream",
     "text": [
      "0.030303030303030304% of the dataset are closed locations\n"
     ]
    },
    {
     "data": {
      "text/plain": [
       "231"
      ]
     },
     "execution_count": 365,
     "metadata": {},
     "output_type": "execute_result"
    }
   ],
   "source": [
    "print(str(len(df_reg[df_reg['isClosed']==0])/len(df_reg)) + \"% of the dataset are closed locations\") # no: 1, yes: 0\n",
    "len(df_reg)"
   ]
  },
  {
   "cell_type": "code",
   "execution_count": 366,
   "metadata": {},
   "outputs": [
    {
     "name": "stdout",
     "output_type": "stream",
     "text": [
      "(231, 2) (231,)\n"
     ]
    }
   ],
   "source": [
    "X = df_reg.drop(\"isClosed\", axis=1)\n",
    "y = df_reg[\"isClosed\"]\n",
    "print(X.shape, y.shape)"
   ]
  },
  {
   "cell_type": "code",
   "execution_count": 367,
   "metadata": {},
   "outputs": [],
   "source": [
    "X = df_reg.drop('isClosed',axis = 1)\n",
    "y = df_reg[\"isClosed\"].values.reshape(-1, 1)"
   ]
  },
  {
   "cell_type": "code",
   "execution_count": 368,
   "metadata": {},
   "outputs": [
    {
     "name": "stdout",
     "output_type": "stream",
     "text": [
      "Optimization terminated successfully.\n",
      "         Current function value: 0.130897\n",
      "         Iterations 8\n",
      "                           Logit Regression Results                           \n",
      "==============================================================================\n",
      "Dep. Variable:                      y   No. Observations:                  231\n",
      "Model:                          Logit   Df Residuals:                      229\n",
      "Method:                           MLE   Df Model:                            1\n",
      "Date:                Tue, 07 Aug 2018   Pseudo R-squ.:                 0.03606\n",
      "Time:                        20:29:22   Log-Likelihood:                -30.237\n",
      "converged:                       True   LL-Null:                       -31.368\n",
      "                                        LLR p-value:                    0.1326\n",
      "================================================================================\n",
      "                   coef    std err          z      P>|z|      [0.025      0.975]\n",
      "--------------------------------------------------------------------------------\n",
      "rating           0.9244      0.213      4.346      0.000       0.508       1.341\n",
      "lic_code_cat    -0.1767      0.365     -0.484      0.628      -0.892       0.538\n",
      "================================================================================\n"
     ]
    }
   ],
   "source": [
    "import statsmodels.api as sm\n",
    "logit_model=sm.Logit(y,X)\n",
    "result=logit_model.fit()\n",
    "print(result.summary())"
   ]
  },
  {
   "cell_type": "code",
   "execution_count": 369,
   "metadata": {},
   "outputs": [
    {
     "name": "stderr",
     "output_type": "stream",
     "text": [
      "C:\\Users\\White Base\\AppData\\Local\\conda\\conda\\envs\\FinalProject\\lib\\site-packages\\sklearn\\utils\\validation.py:578: DataConversionWarning: A column-vector y was passed when a 1d array was expected. Please change the shape of y to (n_samples, ), for example using ravel().\n",
      "  y = column_or_1d(y, warn=True)\n"
     ]
    },
    {
     "data": {
      "text/plain": [
       "LogisticRegression(C=1.0, class_weight=None, dual=False, fit_intercept=True,\n",
       "          intercept_scaling=1, max_iter=100, multi_class='ovr', n_jobs=1,\n",
       "          penalty='l2', random_state=None, solver='liblinear', tol=0.0001,\n",
       "          verbose=0, warm_start=False)"
      ]
     },
     "execution_count": 369,
     "metadata": {},
     "output_type": "execute_result"
    }
   ],
   "source": [
    "X_train, X_test, y_train, y_test = train_test_split(X, y, test_size=0.3, random_state=0)\n",
    "from sklearn.linear_model import LogisticRegression\n",
    "from sklearn import metrics\n",
    "logreg = LogisticRegression()\n",
    "logreg.fit(X_train, y_train)"
   ]
  },
  {
   "cell_type": "code",
   "execution_count": 370,
   "metadata": {},
   "outputs": [
    {
     "name": "stdout",
     "output_type": "stream",
     "text": [
      "Accuracy of logistic regression classifier on test set: 0.99\n"
     ]
    }
   ],
   "source": [
    "y_pred = logreg.predict(X_test)\n",
    "print('Accuracy of logistic regression classifier on test set: {:.2f}'.format(logreg.score(X_test, y_test)))"
   ]
  },
  {
   "cell_type": "code",
   "execution_count": 371,
   "metadata": {},
   "outputs": [
    {
     "name": "stdout",
     "output_type": "stream",
     "text": [
      "10-fold cross validation average accuracy: 0.963\n"
     ]
    },
    {
     "name": "stderr",
     "output_type": "stream",
     "text": [
      "C:\\Users\\White Base\\AppData\\Local\\conda\\conda\\envs\\FinalProject\\lib\\site-packages\\sklearn\\utils\\validation.py:578: DataConversionWarning: A column-vector y was passed when a 1d array was expected. Please change the shape of y to (n_samples, ), for example using ravel().\n",
      "  y = column_or_1d(y, warn=True)\n",
      "C:\\Users\\White Base\\AppData\\Local\\conda\\conda\\envs\\FinalProject\\lib\\site-packages\\sklearn\\utils\\validation.py:578: DataConversionWarning: A column-vector y was passed when a 1d array was expected. Please change the shape of y to (n_samples, ), for example using ravel().\n",
      "  y = column_or_1d(y, warn=True)\n",
      "C:\\Users\\White Base\\AppData\\Local\\conda\\conda\\envs\\FinalProject\\lib\\site-packages\\sklearn\\utils\\validation.py:578: DataConversionWarning: A column-vector y was passed when a 1d array was expected. Please change the shape of y to (n_samples, ), for example using ravel().\n",
      "  y = column_or_1d(y, warn=True)\n",
      "C:\\Users\\White Base\\AppData\\Local\\conda\\conda\\envs\\FinalProject\\lib\\site-packages\\sklearn\\utils\\validation.py:578: DataConversionWarning: A column-vector y was passed when a 1d array was expected. Please change the shape of y to (n_samples, ), for example using ravel().\n",
      "  y = column_or_1d(y, warn=True)\n",
      "C:\\Users\\White Base\\AppData\\Local\\conda\\conda\\envs\\FinalProject\\lib\\site-packages\\sklearn\\utils\\validation.py:578: DataConversionWarning: A column-vector y was passed when a 1d array was expected. Please change the shape of y to (n_samples, ), for example using ravel().\n",
      "  y = column_or_1d(y, warn=True)\n",
      "C:\\Users\\White Base\\AppData\\Local\\conda\\conda\\envs\\FinalProject\\lib\\site-packages\\sklearn\\utils\\validation.py:578: DataConversionWarning: A column-vector y was passed when a 1d array was expected. Please change the shape of y to (n_samples, ), for example using ravel().\n",
      "  y = column_or_1d(y, warn=True)\n",
      "C:\\Users\\White Base\\AppData\\Local\\conda\\conda\\envs\\FinalProject\\lib\\site-packages\\sklearn\\utils\\validation.py:578: DataConversionWarning: A column-vector y was passed when a 1d array was expected. Please change the shape of y to (n_samples, ), for example using ravel().\n",
      "  y = column_or_1d(y, warn=True)\n",
      "C:\\Users\\White Base\\AppData\\Local\\conda\\conda\\envs\\FinalProject\\lib\\site-packages\\sklearn\\utils\\validation.py:578: DataConversionWarning: A column-vector y was passed when a 1d array was expected. Please change the shape of y to (n_samples, ), for example using ravel().\n",
      "  y = column_or_1d(y, warn=True)\n",
      "C:\\Users\\White Base\\AppData\\Local\\conda\\conda\\envs\\FinalProject\\lib\\site-packages\\sklearn\\utils\\validation.py:578: DataConversionWarning: A column-vector y was passed when a 1d array was expected. Please change the shape of y to (n_samples, ), for example using ravel().\n",
      "  y = column_or_1d(y, warn=True)\n",
      "C:\\Users\\White Base\\AppData\\Local\\conda\\conda\\envs\\FinalProject\\lib\\site-packages\\sklearn\\utils\\validation.py:578: DataConversionWarning: A column-vector y was passed when a 1d array was expected. Please change the shape of y to (n_samples, ), for example using ravel().\n",
      "  y = column_or_1d(y, warn=True)\n"
     ]
    }
   ],
   "source": [
    "from sklearn import model_selection\n",
    "from sklearn.model_selection import cross_val_score\n",
    "kfold = model_selection.KFold(n_splits=10, random_state=7)\n",
    "modelCV = LogisticRegression()\n",
    "scoring = 'accuracy'\n",
    "results = model_selection.cross_val_score(modelCV, X_train, y_train, cv=kfold, scoring=scoring)\n",
    "print(\"10-fold cross validation average accuracy: %.3f\" % (results.mean()))"
   ]
  },
  {
   "cell_type": "code",
   "execution_count": 372,
   "metadata": {},
   "outputs": [
    {
     "name": "stdout",
     "output_type": "stream",
     "text": [
      "[[ 0  1]\n",
      " [ 0 69]]\n"
     ]
    }
   ],
   "source": [
    "from sklearn.metrics import confusion_matrix\n",
    "confusion_matrix = confusion_matrix(y_test, y_pred)\n",
    "print(confusion_matrix)"
   ]
  },
  {
   "cell_type": "code",
   "execution_count": 373,
   "metadata": {},
   "outputs": [
    {
     "name": "stdout",
     "output_type": "stream",
     "text": [
      "             precision    recall  f1-score   support\n",
      "\n",
      "          0       0.00      0.00      0.00         1\n",
      "          1       0.99      1.00      0.99        69\n",
      "\n",
      "avg / total       0.97      0.99      0.98        70\n",
      "\n"
     ]
    },
    {
     "name": "stderr",
     "output_type": "stream",
     "text": [
      "C:\\Users\\White Base\\AppData\\Local\\conda\\conda\\envs\\FinalProject\\lib\\site-packages\\sklearn\\metrics\\classification.py:1135: UndefinedMetricWarning: Precision and F-score are ill-defined and being set to 0.0 in labels with no predicted samples.\n",
      "  'precision', 'predicted', average, warn_for)\n"
     ]
    }
   ],
   "source": [
    "from sklearn.metrics import classification_report\n",
    "print(classification_report(y_test, y_pred))"
   ]
  },
  {
   "cell_type": "code",
   "execution_count": null,
   "metadata": {},
   "outputs": [],
   "source": [
    "#########################################################################################################################"
   ]
  },
  {
   "cell_type": "code",
   "execution_count": 174,
   "metadata": {},
   "outputs": [
    {
     "name": "stdout",
     "output_type": "stream",
     "text": [
      "['business_name', 'lic_code', 'street_address', 'business_start_date', 'business_end_date', 'Lifespan', 'isClosed', 'full_address', 'business_id', 'name', 'district', 'MA', 'year', 'latitude', 'longitude', 'tract', 'GEOID10', 'link', 'HC01_VC05', 'HC01_VC113', 'HC01_VC115', 'HC01_VC117', 'HC01_VC121', 'HC01_VC28', 'HC01_VC36', 'HC01_VC41', 'HC01_VC42', 'HC01_VC43', 'HC01_VC44', 'HC01_VC50', 'HC01_VC51', 'HC01_VC52', 'HC01_VC53', 'HC01_VC54', 'HC01_VC55', 'HC01_VC56', 'HC01_VC57', 'HC01_VC58', 'HC01_VC59', 'HC01_VC60', 'HC01_VC61', 'HC01_VC62', 'HC01_VC67', 'HC01_VC68', 'HC01_VC69', 'HC01_VC85', 'HC01_VC86', 'HC01_VC89', 'HC01_VC99', 'HC03_VC05', 'HC03_VC13', 'HC03_VC156', 'HC03_VC28', 'HC03_VC41', 'HC03_VC42', 'HC03_VC43', 'HC03_VC44', 'HC03_VC45', 'HC03_VC50', 'HC03_VC51', 'HC03_VC52', 'HC03_VC53', 'HC03_VC54', 'HC03_VC55', 'HC03_VC56', 'HC03_VC57', 'HC03_VC58', 'HC03_VC59', 'HC03_VC60', 'HC03_VC61', 'HC03_VC62', 'HC03_VC67', 'HC03_VC68', 'HC03_VC69', 'HC03_VC75', 'HC03_VC76', 'HC03_VC77', 'HC03_VC78', 'HC03_VC79', 'HC03_VC80', 'HC03_VC81', 'HC03_VC82', 'HC03_VC83', 'HC03_VC84', 'HD01_S001', 'HD01_S020', 'HD01_S026', 'HD01_S045', 'HD01_S051', 'HD01_S070', 'HD01_S151', 'HD01_S169', 'HD01_S170', 'HD01_S171', 'HD01_S180', 'HD01_S181', 'HD01_S184', 'HD02_S026', 'HD02_S051', 'HD02_S151', 'HD02_S170', 'HD02_S171', 'HD02_S180', 'HD02_S181', 'HD02_S184', 'Opening_year', 'Closing_year', 'Opening_month', 'Closing_month', 'input_string', 'price_level', 'rating', 'business_name.1', 'Q1_16_Nature_Exp', 'Q2_16_Nature_Exp', 'Q3_16_Nature_Exp', 'Q4_16_Nature_Exp', 'Q1_17_Nature_Exp', 'Q2_17_Nature_Exp', 'Q3_17_Nature_Exp', 'Q4_17_Nature_Exp', 'Q1_16_Family_Fun', 'Q2_16_Family_Fun', 'Q3_16_Family_Fun', 'Q4_16_Family_Fun', 'Q1_17_Family_Fun', 'Q2_17_Family_Fun', 'Q3_17_Family_Fun', 'Q4_17_Family_Fun', 'Q1_16_Healthy_Lifestyle', 'Q2_16_Healthy_Lifestyle', 'Q3_16_Healthy_Lifestyle', 'Q4_16_Healthy_Lifestyle', 'Q1_17_Healthy_Lifestyle', 'Q2_17_Healthy_Lifestyle', 'Q3_17_Healthy_Lifestyle', 'Q4_17_Healthy_Lifestyle', 'Q1_16_Nightlife_Hotspot', 'Q2_16_Nightlife_Hotspot', 'Q3_16_Nightlife_Hotspot', 'Q4_16_Nightlife_Hotspot', 'Q1_17_Nightlife_Hotspot', 'Q2_17_Nightlife_Hotspot', 'Q3_17_Nightlife_Hotspot', 'Q4_17_Nightlife_Hotspot', 'Q1_16_Artsy', 'Q2_16_Artsy', 'Q3_16_Artsy', 'Q4_16_Artsy', 'Q1_17_Artsy', 'Q2_17_Artsy', 'Q3_17_Artsy', 'Q4_17_Artsy', 'Q1_16_Foodie', 'Q2_16_Foodie', 'Q3_16_Foodie', 'Q4_16_Foodie', 'Q1_17_Foodie', 'Q2_17_Foodie', 'Q3_17_Foodie', 'Q4_17_Foodie', 'Q1_16_Hipster', 'Q2_16_Hipster', 'Q3_16_Hipster', 'Q4_16_Hipster', 'Q1_17_Hipster', 'Q2_17_Hipster', 'Q3_17_Hipster', 'Q4_17_Hipster', 'Q1_16_Beautiful_Scenery', 'Q2_16_Beautiful_Scenery', 'Q3_16_Beautiful_Scenery', 'Q4_16_Beautiful_Scenery', 'Q1_17_Beautiful_Scenery', 'Q2_17_Beautiful_Scenery', 'Q3_17_Beautiful_Scenery', 'Q4_17_Beautiful_Scenery', 'Foodie_16', 'Foodie_17', 'lic_code_cat', 'district_cat', 'Nature_Exp', 'Family_Fun', 'Healthy_Lifestyle', 'Nightlife_Hotspot', 'Artsy', 'Foodie', 'Hipster', 'Beautiful_Scenery']\n"
     ]
    }
   ],
   "source": [
    "print(list(df))"
   ]
  },
  {
   "cell_type": "code",
   "execution_count": 374,
   "metadata": {},
   "outputs": [],
   "source": [
    "df_reg = df[[\n",
    "    'isClosed','Nature_Exp', 'Family_Fun', 'Healthy_Lifestyle', 'Nightlife_Hotspot', 'Artsy', 'Foodie', 'Hipster', 'Beautiful_Scenery'\n",
    "]].dropna()"
   ]
  },
  {
   "cell_type": "code",
   "execution_count": 389,
   "metadata": {},
   "outputs": [
    {
     "name": "stdout",
     "output_type": "stream",
     "text": [
      "(320, 8) (320,)\n"
     ]
    }
   ],
   "source": [
    "# loading libraries\n",
    "import matplotlib.pyplot as plt\n",
    "from sklearn.neighbors import KNeighborsClassifier\n",
    "import numpy as np\n",
    "from sklearn.cross_validation import train_test_split\n",
    "\n",
    "# create design matrix X and target vector y\n",
    "# X = np.array(df.ix[:, 0:4]) \t# end index is exclusive\n",
    "# y = np.array(df['lic_code_cat']) \t# another way of indexing a pandas df\n",
    "\n",
    "target = df_reg['isClosed']\n",
    "# target_names = [\"Open\",\"Closed\"]\n",
    "data = df_reg.drop(\"isClosed\", axis=1)\n",
    "print(X.shape, y.shape)"
   ]
  },
  {
   "cell_type": "code",
   "execution_count": 390,
   "metadata": {},
   "outputs": [],
   "source": [
    "from sklearn.model_selection import train_test_split\n",
    "X_train, X_test, y_train, y_test = train_test_split(data, target)"
   ]
  },
  {
   "cell_type": "code",
   "execution_count": 391,
   "metadata": {},
   "outputs": [
    {
     "name": "stdout",
     "output_type": "stream",
     "text": [
      "k: 1, Train/Test Score: 0.996/0.725\n",
      "k: 3, Train/Test Score: 0.858/0.800\n",
      "k: 5, Train/Test Score: 0.833/0.825\n",
      "k: 7, Train/Test Score: 0.787/0.825\n",
      "k: 9, Train/Test Score: 0.796/0.850\n",
      "k: 11, Train/Test Score: 0.796/0.838\n",
      "k: 13, Train/Test Score: 0.787/0.863\n",
      "k: 15, Train/Test Score: 0.796/0.887\n",
      "k: 17, Train/Test Score: 0.796/0.887\n",
      "k: 19, Train/Test Score: 0.796/0.887\n"
     ]
    },
    {
     "data": {
      "image/png": "[encoded data removed]",
      "text/plain": [
       "<Figure size 432x288 with 1 Axes>"
      ]
     },
     "metadata": {},
     "output_type": "display_data"
    }
   ],
   "source": [
    "# Loop through different k values to see which has the highest accuracy\n",
    "# Note: We only use odd numbers because we don't want any ties\n",
    "train_scores = []\n",
    "test_scores = []\n",
    "for k in range(1, 20, 2):\n",
    "    knn = KNeighborsClassifier(n_neighbors=k)\n",
    "    knn.fit(X_train, y_train)\n",
    "    train_score = knn.score(X_train, y_train)\n",
    "    test_score = knn.score(X_test, y_test)\n",
    "    train_scores.append(train_score)\n",
    "    test_scores.append(test_score)\n",
    "    print(f\"k: {k}, Train/Test Score: {train_score:.3f}/{test_score:.3f}\")\n",
    "    \n",
    "    \n",
    "plt.plot(range(1, 20, 2), train_scores, marker='o')\n",
    "plt.plot(range(1, 20, 2), test_scores, marker=\"x\")\n",
    "plt.xlabel(\"k neighbors\")\n",
    "plt.ylabel(\"Testing accuracy Score\")\n",
    "plt.show()"
   ]
  },
  {
   "cell_type": "code",
   "execution_count": 392,
   "metadata": {},
   "outputs": [
    {
     "name": "stdout",
     "output_type": "stream",
     "text": [
      "k=13 Test Acc: 0.863\n"
     ]
    }
   ],
   "source": [
    "# Note that k: 13 seems to be the best choice for this dataset\n",
    "knn = KNeighborsClassifier(n_neighbors=13)\n",
    "knn.fit(X_train, y_train)\n",
    "print('k=13 Test Acc: %.3f' % knn.score(X_test, y_test))"
   ]
  },
  {
   "cell_type": "code",
   "execution_count": null,
   "metadata": {},
   "outputs": [],
   "source": []
  },
  {
   "cell_type": "code",
   "execution_count": null,
   "metadata": {},
   "outputs": [],
   "source": [
    "#########################################################################################################################"
   ]
  },
  {
   "cell_type": "code",
   "execution_count": null,
   "metadata": {},
   "outputs": [],
   "source": [
    "# Ref: https://github.com/alifier/Restaurant_success_model/blob/master/Restaurants_yelp_ML_final.ipynb"
   ]
  },
  {
   "cell_type": "code",
   "execution_count": null,
   "metadata": {},
   "outputs": [],
   "source": [
    "clf = LogisticRegression(random_state=0)\n",
    "clf_A = GaussianNB()\n",
    "clf_B = DecisionTreeClassifier(random_state=1)\n",
    "clf_C = GradientBoostingClassifier(random_state=1)\n",
    "clf_D = RandomForestClassifier(random_state=1)"
   ]
  },
  {
   "cell_type": "code",
   "execution_count": null,
   "metadata": {},
   "outputs": [],
   "source": [
    "# Split in features and target\n",
    "df_ml_features = df_reg\n",
    "df_ml_target = df['Lifespan']"
   ]
  },
  {
   "cell_type": "code",
   "execution_count": null,
   "metadata": {},
   "outputs": [],
   "source": [
    "X_train, X_test, y_train, y_test = train_test_split(df_ml_features, df_ml_target, test_size = 0.2, random_state = 10,\\\n",
    "                                                    stratify = df_ml_target)"
   ]
  },
  {
   "cell_type": "code",
   "execution_count": null,
   "metadata": {},
   "outputs": [],
   "source": [
    "clf.fit(X_train,list(y_train.values))\n",
    "y_pred = clf.predict(X_test)\n",
    "print('Accuracy: ',clf.score(X_test,list(y_test.values)))\n",
    "print('Precision: ',precision_score(list(y_test.values),y_pred))\n",
    "print('Recall: ',recall_score(list(y_test.values),y_pred))\n",
    "print('F1 Score: ',f1_score(list(y_test.values),y_pred))\n",
    "print('Confusion Matrix: \\n',confusion_matrix(list(y_test.values), y_pred))"
   ]
  }
 ],
 "metadata": {
  "kernelspec": {
   "display_name": "Python 3",
   "language": "python",
   "name": "python3"
  },
  "language_info": {
   "codemirror_mode": {
    "name": "ipython",
    "version": 3
   },
   "file_extension": ".py",
   "mimetype": "text/x-python",
   "name": "python",
   "nbconvert_exporter": "python",
   "pygments_lexer": "ipython3",
   "version": "3.6.5"
  }
 },
 "nbformat": 4,
 "nbformat_minor": 2
}
